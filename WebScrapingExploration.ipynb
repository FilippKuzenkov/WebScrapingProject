{
 "cells": [
  {
   "cell_type": "code",
   "execution_count": 1,
   "id": "e2b31a8f-e921-4fba-8db3-7da85de243ba",
   "metadata": {},
   "outputs": [
    {
     "name": "stdout",
     "output_type": "stream",
     "text": [
      "Collecting bs4\n",
      "  Downloading bs4-0.0.2-py2.py3-none-any.whl.metadata (411 bytes)\n",
      "Requirement already satisfied: beautifulsoup4 in c:\\users\\fdkuz\\miniconda3\\lib\\site-packages (from bs4) (4.12.3)\n",
      "Requirement already satisfied: soupsieve>1.2 in c:\\users\\fdkuz\\miniconda3\\lib\\site-packages (from beautifulsoup4->bs4) (2.5)\n",
      "Downloading bs4-0.0.2-py2.py3-none-any.whl (1.2 kB)\n",
      "Installing collected packages: bs4\n",
      "Successfully installed bs4-0.0.2\n"
     ]
    }
   ],
   "source": [
    "!pip install bs4"
   ]
  },
  {
   "cell_type": "code",
   "execution_count": 2,
   "id": "17082da9-ea16-4fe5-b86f-185a777ebd26",
   "metadata": {},
   "outputs": [
    {
     "name": "stdout",
     "output_type": "stream",
     "text": [
      "Requirement already satisfied: requests in c:\\users\\fdkuz\\miniconda3\\lib\\site-packages (2.31.0)\n",
      "Requirement already satisfied: charset-normalizer<4,>=2 in c:\\users\\fdkuz\\miniconda3\\lib\\site-packages (from requests) (2.0.4)\n",
      "Requirement already satisfied: idna<4,>=2.5 in c:\\users\\fdkuz\\miniconda3\\lib\\site-packages (from requests) (3.4)\n",
      "Requirement already satisfied: urllib3<3,>=1.21.1 in c:\\users\\fdkuz\\miniconda3\\lib\\site-packages (from requests) (2.1.0)\n",
      "Requirement already satisfied: certifi>=2017.4.17 in c:\\users\\fdkuz\\miniconda3\\lib\\site-packages (from requests) (2024.8.30)\n"
     ]
    }
   ],
   "source": [
    "!pip install requests"
   ]
  },
  {
   "cell_type": "code",
   "execution_count": 3,
   "id": "26bcc2a0-3fb9-4bee-a9f5-05fbfc109032",
   "metadata": {},
   "outputs": [
    {
     "name": "stdout",
     "output_type": "stream",
     "text": [
      "Requirement already satisfied: pandas in c:\\users\\fdkuz\\miniconda3\\lib\\site-packages (2.2.2)\n",
      "Requirement already satisfied: numpy>=1.26.0 in c:\\users\\fdkuz\\miniconda3\\lib\\site-packages (from pandas) (1.26.4)\n",
      "Requirement already satisfied: python-dateutil>=2.8.2 in c:\\users\\fdkuz\\miniconda3\\lib\\site-packages (from pandas) (2.9.0.post0)\n",
      "Requirement already satisfied: pytz>=2020.1 in c:\\users\\fdkuz\\miniconda3\\lib\\site-packages (from pandas) (2024.1)\n",
      "Requirement already satisfied: tzdata>=2022.7 in c:\\users\\fdkuz\\miniconda3\\lib\\site-packages (from pandas) (2023.3)\n",
      "Requirement already satisfied: six>=1.5 in c:\\users\\fdkuz\\miniconda3\\lib\\site-packages (from python-dateutil>=2.8.2->pandas) (1.16.0)\n"
     ]
    }
   ],
   "source": [
    "!pip install pandas"
   ]
  },
  {
   "cell_type": "code",
   "execution_count": 4,
   "id": "a6793a7c-4286-4255-a10f-8d25845e23cb",
   "metadata": {},
   "outputs": [],
   "source": [
    "from bs4 import BeautifulSoup\n",
    "import requests\n",
    "import pandas as pd"
   ]
  },
  {
   "cell_type": "code",
   "execution_count": 5,
   "id": "8190aa9a-ac51-47bb-9af4-a6e3681b09f8",
   "metadata": {},
   "outputs": [],
   "source": [
    "URL = \"https://www.amazon.com/s?k=laptops&crid=9F705CH1BXKX&sprefix=laptops%2Caps%2C301&ref=nb_sb_noss_1\""
   ]
  },
  {
   "cell_type": "code",
   "execution_count": 6,
   "id": "1a4caf6d-fe58-48ad-a05c-e695f1cae10b",
   "metadata": {},
   "outputs": [],
   "source": [
    "#Headers for request\n",
    "HEADERS = ({'User-Agent':'Mozilla/5.0 (Windows NT 10.0; Win64; x64) AppleWebKit/537.36 (KHTML, like Gecko) Chrome/126.0.0.0 Safari/537.36 OPR/112.0.0.0', 'Accept-Language': 'en-US, en;q=0.5'})"
   ]
  },
  {
   "cell_type": "code",
   "execution_count": 7,
   "id": "a6fa209b-27df-47d1-a8bd-4f096d862275",
   "metadata": {},
   "outputs": [],
   "source": [
    "#HTTP Request\n",
    "webpage = requests.get(URL, headers = HEADERS)"
   ]
  },
  {
   "cell_type": "code",
   "execution_count": 10,
   "id": "076356eb-e1d3-4104-a3da-a9ce51ae1e1f",
   "metadata": {},
   "outputs": [],
   "source": [
    "#converting into HTML format\n",
    "soup = BeautifulSoup(webpage.content, 'html.parser')"
   ]
  },
  {
   "cell_type": "code",
   "execution_count": 12,
   "id": "9406263c-127d-4ea6-9dcd-b3c44b41b5a1",
   "metadata": {},
   "outputs": [],
   "source": [
    "#fetch links as list of Tag Objects\n",
    "links = soup.find_all(\"a\", attrs = {'class':'a-link-normal s-underline-text s-underline-link-text s-link-style a-text-normal'})"
   ]
  },
  {
   "cell_type": "code",
   "execution_count": 16,
   "id": "a450fc3c-fc4a-46d4-a33e-0e7844eabb84",
   "metadata": {},
   "outputs": [],
   "source": [
    "link = links[0].get('href')"
   ]
  },
  {
   "cell_type": "code",
   "execution_count": 17,
   "id": "1acb24f7-723c-400f-a705-7889f9e908db",
   "metadata": {},
   "outputs": [],
   "source": [
    "product_list = \"https://amazon.com\" + link"
   ]
  },
  {
   "cell_type": "code",
   "execution_count": 19,
   "id": "d2060044-2b7d-46a1-a360-589999382feb",
   "metadata": {},
   "outputs": [],
   "source": [
    "webpage1 = requests.get(product_list, headers = HEADERS)"
   ]
  },
  {
   "cell_type": "code",
   "execution_count": 21,
   "id": "339eab88-6e70-4fca-a455-abf5a7ed26d1",
   "metadata": {},
   "outputs": [],
   "source": [
    "soup1 = BeautifulSoup(webpage1.content, 'html.parser')"
   ]
  },
  {
   "cell_type": "code",
   "execution_count": 24,
   "id": "24dda23b-47bd-41f3-ba29-c89d3ece14c2",
   "metadata": {},
   "outputs": [
    {
     "data": {
      "text/plain": [
       "'HP Newest 14\" Ultral Light Laptop for Students and Business, Intel Quad-Core N4120, 8GB RAM, 192GB Storage(64GB eMMC+128GB Micro SD), 1 Year Office 365, Webcam, HDMI, WiFi, USB-A&C, Win 11 S'"
      ]
     },
     "execution_count": 24,
     "metadata": {},
     "output_type": "execute_result"
    }
   ],
   "source": [
    "soup1.find(\"span\", attrs = {\"id\":'productTitle'}).text.strip() #extracting the title"
   ]
  },
  {
   "cell_type": "code",
   "execution_count": 33,
   "id": "f976302f-3b0e-4f32-8b47-77ccbe2952fa",
   "metadata": {},
   "outputs": [
    {
     "data": {
      "text/plain": [
       "'$249.99'"
      ]
     },
     "execution_count": 33,
     "metadata": {},
     "output_type": "execute_result"
    }
   ],
   "source": [
    "soup1.find(\"span\", attrs = {\"class\":'a-price aok-align-center'}).find(\"span\", attrs = {\"class\":'a-offscreen'}).text #extracting the price"
   ]
  },
  {
   "cell_type": "code",
   "execution_count": 35,
   "id": "e8f9c20a-e1bc-4962-a89e-a37fd4cf4042",
   "metadata": {},
   "outputs": [
    {
     "data": {
      "text/plain": [
       "'4.1 out of 5 stars'"
      ]
     },
     "execution_count": 35,
     "metadata": {},
     "output_type": "execute_result"
    }
   ],
   "source": [
    "soup1.find(\"span\", attrs = {\"class\":'a-icon-alt'}).text #extracting the rating"
   ]
  },
  {
   "cell_type": "code",
   "execution_count": 36,
   "id": "4ec04a3b-a46c-4284-b0fe-11a0a0e9f589",
   "metadata": {},
   "outputs": [],
   "source": [
    "review_count = soup1.find(\"span\", attrs={'id':'acrCustomerReviewText'}).string.strip()"
   ]
  },
  {
   "cell_type": "code",
   "execution_count": 37,
   "id": "ec214810-9763-40fc-8fc8-483921eeac2b",
   "metadata": {},
   "outputs": [
    {
     "data": {
      "text/plain": [
       "'1,857 ratings'"
      ]
     },
     "execution_count": 37,
     "metadata": {},
     "output_type": "execute_result"
    }
   ],
   "source": [
    "review_count"
   ]
  },
  {
   "cell_type": "code",
   "execution_count": 40,
   "id": "5734516c-5c51-426e-92e1-b826bed6e54c",
   "metadata": {},
   "outputs": [],
   "source": [
    "available = soup1.find(\"div\", attrs={'id':'availability'}).find(\"span\").string.strip()"
   ]
  },
  {
   "cell_type": "code",
   "execution_count": 41,
   "id": "d1b124bd-840b-40bb-b420-8dd9d2625192",
   "metadata": {},
   "outputs": [
    {
     "data": {
      "text/plain": [
       "'In Stock'"
      ]
     },
     "execution_count": 41,
     "metadata": {},
     "output_type": "execute_result"
    }
   ],
   "source": [
    "available"
   ]
  },
  {
   "cell_type": "code",
   "execution_count": null,
   "id": "1a297c53-042d-4a4c-ad4f-2a77552f9ff5",
   "metadata": {},
   "outputs": [],
   "source": []
  }
 ],
 "metadata": {
  "kernelspec": {
   "display_name": "Python 3 (ipykernel)",
   "language": "python",
   "name": "python3"
  },
  "language_info": {
   "codemirror_mode": {
    "name": "ipython",
    "version": 3
   },
   "file_extension": ".py",
   "mimetype": "text/x-python",
   "name": "python",
   "nbconvert_exporter": "python",
   "pygments_lexer": "ipython3",
   "version": "3.12.2"
  }
 },
 "nbformat": 4,
 "nbformat_minor": 5
}
